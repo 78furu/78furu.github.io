{
 "cells": [
  {
   "cell_type": "code",
   "execution_count": 1,
   "metadata": {
    "ExecuteTime": {
     "end_time": "2019-12-15T14:15:41.841584Z",
     "start_time": "2019-12-15T14:15:41.824294Z"
    }
   },
   "outputs": [
    {
     "data": {
      "text/html": [
       "<script>\n",
       "code_show=true; \n",
       "function code_toggle() {\n",
       " if (code_show){\n",
       " $('div.input').hide();\n",
       " $('div.output_stderr').hide();\n",
       " } else {\n",
       " $('div.input').show();\n",
       " $('div.output_stderr').show();\n",
       " }\n",
       " code_show = !code_show\n",
       "} \n",
       "$( document ).ready(code_toggle);\n",
       "</script>\n",
       "<form action='javascript:code_toggle()'><input STYLE='color: #4286f4' \n",
       "type='submit' value='Click here to toggle on/off the raw code.'></form>"
      ],
      "text/plain": [
       "<IPython.core.display.HTML object>"
      ]
     },
     "execution_count": 1,
     "metadata": {},
     "output_type": "execute_result"
    }
   ],
   "source": [
    "from IPython.display import HTML\n",
    "\n",
    "HTML('''<script>\n",
    "code_show=true; \n",
    "function code_toggle() {\n",
    " if (code_show){\n",
    " $('div.input').hide();\n",
    " $('div.output_stderr').hide();\n",
    " } else {\n",
    " $('div.input').show();\n",
    " $('div.output_stderr').show();\n",
    " }\n",
    " code_show = !code_show\n",
    "} \n",
    "$( document ).ready(code_toggle);\n",
    "</script>\n",
    "<form action='javascript:code_toggle()'><input STYLE='color: #4286f4' \n",
    "type='submit' value='Click here to toggle on/off the raw code.'></form>''')"
   ]
  },
  {
   "cell_type": "markdown",
   "metadata": {},
   "source": [
    "# <center> Citation network </center>"
   ]
  },
  {
   "cell_type": "markdown",
   "metadata": {},
   "source": [
    "## Introduction\n",
    "\n",
    "Many phenomena in the world can be mapped to networks. In this report I am going to analyze the citation network based on [aMiner](https://aminer.org/citation). "
   ]
  },
  {
   "cell_type": "markdown",
   "metadata": {},
   "source": [
    "## Dependencies\n",
    "\n",
    "Since these kind of networks can grow really huge (and therefore the necessity of power of computation), python is not the most efficient coding language. Fortunately, there is a package that uses C/C++ codes for computation, however has a python interface also. [graph_tool](https://graph-tool.skewed.de/) uses docker to do this. To access the environment on the local machine also, one needs to run the docker (see basic instructions [here](https://git.skewed.de/count0/graph-tool/wikis/installation-instructions#jupyter-notebooks) ) in such a way that __instead of the following code:__\n",
    "\n",
    "~~~\n",
    "docker run -p 8888:8888 -p 6006:6006 -it -u user -w /home/user tiagopeixoto/graph-tool bash\n",
    "~~~\n",
    "\n",
    "one uses this:\n",
    "\n",
    "~~~\n",
    "docker run -p 8888:8888 -p 6006:6006 -it -u user -w /home/user -v /home/<YOUR USERNAME>:/home/user tiagopeixoto/graph-tool bash\n",
    "~~~\n",
    "\n",
    "With this, one can append the anaconda's environment to the system's path (see code cells below). Other basic python dependencies can also be found in the cells below."
   ]
  },
  {
   "cell_type": "code",
   "execution_count": 2,
   "metadata": {
    "ExecuteTime": {
     "end_time": "2019-12-15T14:15:41.854680Z",
     "start_time": "2019-12-15T14:15:41.845268Z"
    }
   },
   "outputs": [],
   "source": [
    "import sys\n",
    "sys.path.append('/home/user/anaconda3/lib/python3.7/site-packages')\n",
    "sys.path.append('/home/user/graph-tool-2.29/src/')\n",
    "sys.path.append('/home/user/pkgs/')"
   ]
  },
  {
   "cell_type": "code",
   "execution_count": 3,
   "metadata": {
    "ExecuteTime": {
     "end_time": "2019-12-15T14:15:45.127010Z",
     "start_time": "2019-12-15T14:15:41.857187Z"
    }
   },
   "outputs": [
    {
     "name": "stdout",
     "output_type": "stream",
     "text": [
      "Populating the interactive namespace from numpy and matplotlib\n"
     ]
    }
   ],
   "source": [
    "%pylab inline\n",
    "from graph_tool.all import *\n",
    "import pandas as pd\n",
    "from tqdm import tqdm\n",
    "from collections import Counter,defaultdict\n",
    "import networkx as nx\n",
    "import pickle\n",
    "from scipy.optimize import curve_fit"
   ]
  },
  {
   "cell_type": "markdown",
   "metadata": {},
   "source": [
    "## Loading in the data\n",
    "\n",
    "The data provided is stored as a text file with hashmarks indicating which type of information is in that line. Further information about the storing can be found at the [official webpage](https://aminer.org/citation) at the Description section. In the code cell below (commented out) I loaded in the data and tried to store that in a dataframe. This took plenty of time, so in order to save it, I had exported it out as a $\\texttt{pickle}$ object. "
   ]
  },
  {
   "cell_type": "code",
   "execution_count": 4,
   "metadata": {
    "ExecuteTime": {
     "end_time": "2019-12-15T14:15:45.134202Z",
     "start_time": "2019-12-15T14:15:45.129329Z"
    },
    "code_folding": [
     0
    ]
   },
   "outputs": [],
   "source": [
    "## In this code cell I read in the smallest amount of data provided\n",
    "# yet I was still not able to process and store all of that in a pandas\n",
    "# dataframe. Since it is a computationally very expensive procedure, \n",
    "# (processing only a quarter of the data took more than an hour)\n",
    "# I recommend not to run this again. Load in df_papers.p instead.\n",
    "\n",
    "\"\"\"with open('citation-network1/outputacm.txt') as f:\n",
    "    data = f.readlines()\n",
    "\n",
    "del data[0] ## only the number of points\n",
    "\n",
    "line_decoder = {\"#*\": \"title\", \"#@\" : \"authors\", \"#t\" : \"year\", \"#c\" : \"pub_venue\",\n",
    "               \"#i\" : \"index\", \"#%\" : \"ref_ids\", \"#!\" : \"abstract\", \"\\n\" : \"new_line\"}\n",
    "\n",
    "def makeitusable(d):\n",
    "    linetype = line_decoder.get(d[:2])\n",
    "    if linetype != \"new_line\":\n",
    "        d = d[2:-1]\n",
    "    else:\n",
    "        return  \"--------------\", linetype\n",
    "    if linetype == \"authors\":\n",
    "        return d.split(sep = ','), linetype\n",
    "    elif linetype == \"year\":\n",
    "        return int(d), linetype\n",
    "    elif linetype == \"ref_ids\":\n",
    "        return int(d), linetype\n",
    "    elif linetype == \"index\":\n",
    "        return int(d[4:]), linetype\n",
    "    else:\n",
    "        return d, linetype\n",
    "    \n",
    "\n",
    "df = pd.DataFrame(columns=line_decoder.values())\n",
    "df.drop(['new_line', \"pub_venue\", \"abstract\"], axis = 1, inplace = True)\n",
    "\n",
    "upload = {}\n",
    "for c, d in tqdm(enumerate(data)):\n",
    "    usable, linetype = makeitusable(d)\n",
    "    if linetype == \"new_line\":\n",
    "        df = df.append(upload, ignore_index=True)\n",
    "        upload.clear()\n",
    "    elif linetype == \"ref_ids\":\n",
    "        try:\n",
    "            upload[linetype].append(usable)\n",
    "        except KeyError:\n",
    "            upload[linetype] = [usable]\n",
    "    elif linetype not in ['pub_venue', 'abstract']:\n",
    "        upload[linetype] = usable\n",
    "#        print(f\"{linetype} : {usable}\")\n",
    "pickle.dump( df, open( \"df_papers.p\", \"wb\" ) )\n",
    "\"\"\";"
   ]
  },
  {
   "cell_type": "code",
   "execution_count": 5,
   "metadata": {
    "ExecuteTime": {
     "end_time": "2019-12-15T14:15:45.531722Z",
     "start_time": "2019-12-15T14:15:45.137563Z"
    }
   },
   "outputs": [],
   "source": [
    "df = pickle.load( open( \"df_papers.p\", \"rb\" ) )"
   ]
  },
  {
   "cell_type": "markdown",
   "metadata": {},
   "source": [
    "Here you can see how the original data looked like. I dropped the publication venue and the abstract coloumn. "
   ]
  },
  {
   "cell_type": "code",
   "execution_count": 6,
   "metadata": {
    "ExecuteTime": {
     "end_time": "2019-12-15T14:15:45.575529Z",
     "start_time": "2019-12-15T14:15:45.535162Z"
    }
   },
   "outputs": [
    {
     "data": {
      "text/html": [
       "<div>\n",
       "<style scoped>\n",
       "    .dataframe tbody tr th:only-of-type {\n",
       "        vertical-align: middle;\n",
       "    }\n",
       "\n",
       "    .dataframe tbody tr th {\n",
       "        vertical-align: top;\n",
       "    }\n",
       "\n",
       "    .dataframe thead th {\n",
       "        text-align: right;\n",
       "    }\n",
       "</style>\n",
       "<table border=\"1\" class=\"dataframe\">\n",
       "  <thead>\n",
       "    <tr style=\"text-align: right;\">\n",
       "      <th></th>\n",
       "      <th>title</th>\n",
       "      <th>authors</th>\n",
       "      <th>year</th>\n",
       "      <th>index</th>\n",
       "      <th>ref_ids</th>\n",
       "    </tr>\n",
       "  </thead>\n",
       "  <tbody>\n",
       "    <tr>\n",
       "      <th>0</th>\n",
       "      <td>Automated Deduction in Geometry: 5th Internati...</td>\n",
       "      <td>[Hoon Hong, Dongming Wang]</td>\n",
       "      <td>2006</td>\n",
       "      <td>0</td>\n",
       "      <td>NaN</td>\n",
       "    </tr>\n",
       "    <tr>\n",
       "      <th>1</th>\n",
       "      <td>A+ Certification Core Hardware (Text &amp; Lab Man...</td>\n",
       "      <td>[Charles J. Brooks]</td>\n",
       "      <td>2003</td>\n",
       "      <td>1</td>\n",
       "      <td>NaN</td>\n",
       "    </tr>\n",
       "    <tr>\n",
       "      <th>2</th>\n",
       "      <td>Performance engineering in industry: current p...</td>\n",
       "      <td>[Ahmed E. Hassan, Parminder Flora]</td>\n",
       "      <td>2007</td>\n",
       "      <td>2</td>\n",
       "      <td>NaN</td>\n",
       "    </tr>\n",
       "    <tr>\n",
       "      <th>3</th>\n",
       "      <td>Dude, You Can Do It! How to Build a Sweeet PC</td>\n",
       "      <td>[Darrel Creacy, Carlito Vicencio]</td>\n",
       "      <td>2005</td>\n",
       "      <td>3</td>\n",
       "      <td>NaN</td>\n",
       "    </tr>\n",
       "    <tr>\n",
       "      <th>4</th>\n",
       "      <td>What Every Programmer Needs to Know about Secu...</td>\n",
       "      <td>[Neil Daswani, Anita Kesavan]</td>\n",
       "      <td>2006</td>\n",
       "      <td>4</td>\n",
       "      <td>NaN</td>\n",
       "    </tr>\n",
       "  </tbody>\n",
       "</table>\n",
       "</div>"
      ],
      "text/plain": [
       "                                               title  \\\n",
       "0  Automated Deduction in Geometry: 5th Internati...   \n",
       "1  A+ Certification Core Hardware (Text & Lab Man...   \n",
       "2  Performance engineering in industry: current p...   \n",
       "3      Dude, You Can Do It! How to Build a Sweeet PC   \n",
       "4  What Every Programmer Needs to Know about Secu...   \n",
       "\n",
       "                              authors  year index ref_ids  \n",
       "0          [Hoon Hong, Dongming Wang]  2006     0     NaN  \n",
       "1                 [Charles J. Brooks]  2003     1     NaN  \n",
       "2  [Ahmed E. Hassan, Parminder Flora]  2007     2     NaN  \n",
       "3   [Darrel Creacy, Carlito Vicencio]  2005     3     NaN  \n",
       "4       [Neil Daswani, Anita Kesavan]  2006     4     NaN  "
      ]
     },
     "execution_count": 6,
     "metadata": {},
     "output_type": "execute_result"
    }
   ],
   "source": [
    "df.head()"
   ]
  },
  {
   "cell_type": "markdown",
   "metadata": {},
   "source": [
    "Below you can see all the papers listed in which Hoon Hoong was an author. "
   ]
  },
  {
   "cell_type": "code",
   "execution_count": 7,
   "metadata": {
    "ExecuteTime": {
     "end_time": "2019-12-15T14:16:07.954610Z",
     "start_time": "2019-12-15T14:15:45.577951Z"
    }
   },
   "outputs": [
    {
     "name": "stdout",
     "output_type": "stream",
     "text": [
      "title      Automated Deduction in Geometry: 5th Internati...\n",
      "authors                           [Hoon Hong, Dongming Wang]\n",
      "year                                                    2006\n",
      "index                                                      0\n",
      "ref_ids                                                  NaN\n",
      "Name: 0, dtype: object\n",
      "title      Connectivity in semialgebraic sets (abstract o...\n",
      "authors                            [Robert Quinn, Hoon Hong]\n",
      "year                                                    2008\n",
      "index                                                  43372\n",
      "ref_ids                                                  NaN\n",
      "Name: 43372, dtype: object\n",
      "title      Proceedings of the second international sympos...\n",
      "authors                          [Hoon Hong, Erich Kaltofen]\n",
      "year                                                    1997\n",
      "index                                                  74503\n",
      "ref_ids                                                  NaN\n",
      "Name: 74503, dtype: object\n",
      "title      Subresultants under composition\n",
      "authors                        [Hoon Hong]\n",
      "year                                  1997\n",
      "index                                83430\n",
      "ref_ids                                NaN\n",
      "Name: 83430, dtype: object\n",
      "title      Implicitization of nested circular curves\n",
      "authors                                  [Hoon Hong]\n",
      "year                                            1997\n",
      "index                                          86621\n",
      "ref_ids                                          NaN\n",
      "Name: 86621, dtype: object\n",
      "title       Testing stability by quantifier elimination\n",
      "authors    [Hoon Hong, Richard Liska, Stanly Steinberg]\n",
      "year                                               1997\n",
      "index                                             90545\n",
      "ref_ids                                             NaN\n",
      "Name: 90545, dtype: object\n",
      "title              Sylvester's double sums: The general case\n",
      "authors    [Carlos DAndrea, Hoon Hong, Teresa Krick, Agne...\n",
      "year                                                    2009\n",
      "index                                                 132083\n",
      "ref_ids                                             [115626]\n",
      "Name: 132083, dtype: object\n"
     ]
    }
   ],
   "source": [
    "for i in range(len(df)):\n",
    "    if \"Hoon Hong\" in df.iloc[i].authors:\n",
    "        print(df.iloc[i])"
   ]
  },
  {
   "cell_type": "code",
   "execution_count": 8,
   "metadata": {
    "ExecuteTime": {
     "end_time": "2019-12-15T14:16:07.959864Z",
     "start_time": "2019-12-15T14:16:07.956569Z"
    }
   },
   "outputs": [
    {
     "name": "stdout",
     "output_type": "stream",
     "text": [
      "The shape of the dataframe: (150560, 5)\n"
     ]
    }
   ],
   "source": [
    "print(f\"The shape of the dataframe: {df.shape}\")"
   ]
  },
  {
   "cell_type": "markdown",
   "metadata": {},
   "source": [
    "The next step is to construct the network. First, I am going to create a bipartite network. The two kinds of nodes will be the authors and the papers, edges will be drawn between an author and a paper if the person is one of the authors of that particular article. Authors will only have a name as a property, but for papers we have the following information kept:\n",
    "~~~\n",
    "title, year, references.\n",
    "~~~\n",
    "To create the network I used graph_tool. "
   ]
  },
  {
   "cell_type": "code",
   "execution_count": 9,
   "metadata": {
    "ExecuteTime": {
     "end_time": "2019-12-15T14:18:43.774239Z",
     "start_time": "2019-12-15T14:16:07.962443Z"
    },
    "code_folding": [
     0
    ]
   },
   "outputs": [
    {
     "name": "stdout",
     "output_type": "stream",
     "text": [
      "0.99999335812964934654\r"
     ]
    }
   ],
   "source": [
    "## make a graph\n",
    "## create a graph\n",
    "g = Graph(directed=False)\n",
    "## define node properties\n",
    "## name: papers - title, authors - 'name'\n",
    "## kind: papers - 0, authors - 1\n",
    "name = g.vp[\"name\"] = g.new_vp(\"string\")\n",
    "kind = g.vp[\"kind\"] = g.new_vp(\"int\")\n",
    "\n",
    "docs_add = defaultdict(lambda: g.add_vertex())\n",
    "words_add = defaultdict(lambda: g.add_vertex())\n",
    "\n",
    "# iterate throug all the rows\n",
    "verbose = True\n",
    "N = len(df)\n",
    "for i in range(N):\n",
    "    d = docs_add[df.iloc[i].title]\n",
    "    name[d] = df.iloc[i].title\n",
    "    kind[d] = 0\n",
    "    for a in df.iloc[i].authors:\n",
    "        c = words_add[a]\n",
    "        name[c] = a\n",
    "        kind[c] = 1\n",
    "        g.add_edge(d,c)\n",
    "    if verbose:\n",
    "        print(i/N, end = '\\r')"
   ]
  },
  {
   "cell_type": "code",
   "execution_count": 10,
   "metadata": {
    "ExecuteTime": {
     "end_time": "2019-12-15T14:18:43.782524Z",
     "start_time": "2019-12-15T14:18:43.778545Z"
    }
   },
   "outputs": [],
   "source": [
    "# g.save(\"small_graph.graphml\") # safety first\n",
    "# g = load_graph(\"small_graph.graphml\") # and second"
   ]
  },
  {
   "cell_type": "markdown",
   "metadata": {},
   "source": [
    "Here I converted it into networkx-type graph. Below you can see a summary about the basic information of the properties of this bipartite graph."
   ]
  },
  {
   "cell_type": "code",
   "execution_count": 11,
   "metadata": {
    "ExecuteTime": {
     "end_time": "2019-12-15T14:18:58.678906Z",
     "start_time": "2019-12-15T14:18:43.787315Z"
    }
   },
   "outputs": [],
   "source": [
    "G = nx.read_graphml(\"small_graph.graphml\") # convert into networkx-type network"
   ]
  },
  {
   "cell_type": "code",
   "execution_count": 12,
   "metadata": {
    "ExecuteTime": {
     "end_time": "2019-12-15T14:19:01.543288Z",
     "start_time": "2019-12-15T14:18:58.681407Z"
    },
    "code_folding": [
     0
    ]
   },
   "outputs": [
    {
     "name": "stdout",
     "output_type": "stream",
     "text": [
      "Name: \n",
      "Type: MultiGraph\n",
      "Number of nodes: 364447\n",
      "Number of edges: 352105\n",
      "Average degree:   1.9323\n",
      "Standard dev. of degrees: 17.11046887235077\n",
      "Clustering coeff: 0.0\n",
      "Diameter: 74.0. Logarithm of the # nodes: 12.806136415194644\n",
      "Diameter of the same ER: 1.0, and clustering coeff: 4.4134976527548314e-06\n"
     ]
    }
   ],
   "source": [
    "# printings\n",
    "print(nx.info(G))\n",
    "print(f\"Standard dev. of degrees: {std(g.get_total_degrees(g.get_vertices()))}\")\n",
    "print(f\"Clustering coeff: {global_clustering(g)[0]}\")\n",
    "g_rand = g.copy()\n",
    "random_rewire(g_rand, model='erdos')\n",
    "print(f\"Diameter: {pseudo_diameter(g)[0]}. Logarithm of the # nodes: {log(len(g.get_vertices()))}\")\n",
    "print(f\"Diameter of the same ER: {pseudo_diameter(g_rand)[0]}, and clustering coeff: {global_clustering(g_rand)[0]}\")"
   ]
  },
  {
   "cell_type": "markdown",
   "metadata": {},
   "source": [
    "The clustering coefficient is zero. This is not true for real network. The reason behind this the fact that here we used bipartite graph. An average degree is not so informative without the distribution. Real world networks are scale-free meaning their degree distribution is scaling i.e. their degree distribution can be characterized with a power-law function:\n",
    "\n",
    "$$\n",
    "p(k) = c \\cdot k^{-\\gamma},\n",
    "$$\n",
    "\n",
    "where $p(k)$ is the probability that a randomly chosen node has degree $k$, $\\gamma$ is the scaling factor and $c$ is a norming parameter.\n",
    "\n",
    "Another important property a real-world networks have is that they are small-world networks i.e. their diameter (longest shortest path) is in the range of the logarithm of the number of nodes: \n",
    "\n",
    "$$\n",
    "d_{max} \\sim \\log{N}.\n",
    "$$"
   ]
  },
  {
   "cell_type": "code",
   "execution_count": 13,
   "metadata": {
    "ExecuteTime": {
     "end_time": "2019-12-15T14:19:02.297407Z",
     "start_time": "2019-12-15T14:19:01.546346Z"
    },
    "code_folding": [
     0
    ]
   },
   "outputs": [],
   "source": [
    "# fitting powerlaw\n",
    "hist = nx.degree_histogram(G)\n",
    "\n",
    "x,y = [], []\n",
    "for i in range(len(hist)):\n",
    "    if hist[i] != 0 and 2< i < 100:\n",
    "        x.append(log(i))\n",
    "        y.append(log(hist[i]))\n",
    "\n",
    "gamma, b = np.polyfit(x,y,1)"
   ]
  },
  {
   "cell_type": "code",
   "execution_count": 14,
   "metadata": {
    "ExecuteTime": {
     "end_time": "2019-12-15T14:19:03.519062Z",
     "start_time": "2019-12-15T14:19:02.299667Z"
    },
    "code_folding": [
     0
    ],
    "scrolled": false
   },
   "outputs": [
    {
     "data": {
      "image/png": "[encoded data removed]",
      "text/plain": [
       "<Figure size 720x432 with 1 Axes>"
      ]
     },
     "metadata": {
      "needs_background": "light"
     },
     "output_type": "display_data"
    }
   ],
   "source": [
    "# plotting degdist\n",
    "plt.figure(figsize=(10,6))\n",
    "plt.plot(range(len(hist)), hist, 'o', label = 'Data')\n",
    "plt.plot(exp(x),exp([i*gamma + b for i in x]), 'r-', label = f\"Fit, $\\gamma_b = ${np.round(-gamma,2)}\")\n",
    "plt.xlabel(\"Degree\")\n",
    "plt.ylabel(\"Occurrence\")\n",
    "plt.title(\"Degree distribution for the bipartite graph\")\n",
    "plt.xscale(\"log\")\n",
    "plt.yscale(\"log\")\n",
    "plt.grid()\n",
    "plt.legend(loc = 'best')\n",
    "plt.show()"
   ]
  },
  {
   "cell_type": "markdown",
   "metadata": {},
   "source": [
    "The above picture shows the degree distribution for the bipartite graph. Please note that the axes are logarithmic, and therefore the scaling property is clearly seen. The fitted $\\gamma_b$ scaling parameter is going to be discussed with the unipartite graph's. I made a threshold for fitting since there are anomalies both at the beginning and at the end. "
   ]
  },
  {
   "cell_type": "markdown",
   "metadata": {},
   "source": [
    "## Author-author network"
   ]
  },
  {
   "cell_type": "markdown",
   "metadata": {},
   "source": [
    "In the following part I am going to create a network where the nodes are the authors and edges are drawn between them if they have an article in common."
   ]
  },
  {
   "cell_type": "code",
   "execution_count": 15,
   "metadata": {
    "ExecuteTime": {
     "end_time": "2019-12-15T14:19:03.532321Z",
     "start_time": "2019-12-15T14:19:03.521173Z"
    },
    "code_folding": [
     0
    ]
   },
   "outputs": [],
   "source": [
    "def create_unipartite(g, kind, name, k_type, verbose = False):\n",
    "    ## make a graph\n",
    "    ## create a graph\n",
    "    g2 = Graph(directed=False)\n",
    "    ## define node properties\n",
    "    ## name: docs - title, words - 'word'\n",
    "    ## kind: docs - 0, words - 1\n",
    "    name2 = g2.vp[\"name\"] = g2.new_vp(\"string\")\n",
    "    #kind2 = g2.vp[\"kind\"] = g2.new_vp(\"int\")\n",
    "\n",
    "    docs_add = defaultdict(lambda: g2.add_vertex())\n",
    "    #words_add = defaultdict(lambda: g.add_vertex())\n",
    "    \n",
    "    N = len(list(g.vertices()))\n",
    "    \n",
    "    for i,v in enumerate(g.vertices()):\n",
    "        if kind[v] == k_type:\n",
    " #           print(kind[v], name[v])\n",
    "            d = docs_add[name[v]]\n",
    "            name2[d] = name[v]\n",
    "            for f in v.all_neighbors():\n",
    "                for w in f.all_neighbors():\n",
    "                    if w!=i:\n",
    "#                        print(f\"neighs: {kind[w]}, {name[w]}\")\n",
    "                        r = docs_add[name[w]]\n",
    "                        name2[r] = name[w]\n",
    "                        g2.add_edge(d,r)\n",
    "        if verbose:\n",
    "            print(f\"Generating unipartite graph: {np.round(100*(i+1)/N, 2)}%\", end = '\\r')\n",
    "    return g2, name2"
   ]
  },
  {
   "cell_type": "code",
   "execution_count": 16,
   "metadata": {
    "ExecuteTime": {
     "end_time": "2019-12-15T14:22:12.318632Z",
     "start_time": "2019-12-15T14:19:03.535488Z"
    },
    "scrolled": false
   },
   "outputs": [
    {
     "name": "stdout",
     "output_type": "stream",
     "text": [
      "Generating unipartite graph: 100.0%\r"
     ]
    }
   ],
   "source": [
    "g2, name2 = create_unipartite(g, kind, name, 1, verbose=True)"
   ]
  },
  {
   "cell_type": "code",
   "execution_count": 17,
   "metadata": {
    "ExecuteTime": {
     "end_time": "2019-12-15T14:22:12.348040Z",
     "start_time": "2019-12-15T14:22:12.341316Z"
    },
    "code_folding": []
   },
   "outputs": [],
   "source": [
    "# g2.save(\"asd.graphml\") # safety first"
   ]
  },
  {
   "cell_type": "code",
   "execution_count": 18,
   "metadata": {
    "ExecuteTime": {
     "end_time": "2019-12-15T14:22:34.247199Z",
     "start_time": "2019-12-15T14:22:12.353973Z"
    }
   },
   "outputs": [],
   "source": [
    "G2 = nx.read_graphml(\"asd.graphml\")"
   ]
  },
  {
   "cell_type": "markdown",
   "metadata": {},
   "source": [
    "The generated unipartite author-author graph has the following properties:"
   ]
  },
  {
   "cell_type": "code",
   "execution_count": 19,
   "metadata": {
    "ExecuteTime": {
     "end_time": "2019-12-15T14:22:39.020931Z",
     "start_time": "2019-12-15T14:22:34.249173Z"
    },
    "code_folding": [
     0
    ]
   },
   "outputs": [
    {
     "name": "stdout",
     "output_type": "stream",
     "text": [
      "Name: \n",
      "Type: MultiGraph\n",
      "Number of nodes: 215983\n",
      "Number of edges: 937196\n",
      "Average degree:   8.6784\n",
      "Standard dev. of degrees: 38.363776569131076\n",
      "Clustering coeff: 0.5153107955364336\n",
      "Diameter: 37.0. Logarithm of the # nodes: 12.2829549798653\n",
      "Diameter of the same ER: 10.0, and clustering coeff: 4.126656419622006e-05\n"
     ]
    }
   ],
   "source": [
    "# printings\n",
    "print(nx.info(G2))\n",
    "print(f\"Standard dev. of degrees: {std(g2.get_total_degrees(g2.get_vertices()))}\")\n",
    "print(f\"Clustering coeff: {global_clustering(g2)[0]}\")\n",
    "g2_rand = g2.copy()\n",
    "random_rewire(g2_rand, model='erdos', n_iter=3)\n",
    "print(f\"Diameter: {pseudo_diameter(g2)[0]}. Logarithm of the # nodes: {log(len(g2.get_vertices()))}\")\n",
    "print(f\"Diameter of the same ER: {pseudo_diameter(g2_rand)[0]}, and clustering coeff: {global_clustering(g2_rand)[0]}\")"
   ]
  },
  {
   "cell_type": "markdown",
   "metadata": {},
   "source": [
    "The number of nodes decreased whilst the edges have grown. It is possible since here we did allow to have multiple edges. The average degree and its standard deviation have increased also, and the clustering coefficient, too. The diameter decreased a lot, but compared to the E-R random graph, the clustering coefficient is decreased also. "
   ]
  },
  {
   "cell_type": "code",
   "execution_count": 20,
   "metadata": {
    "ExecuteTime": {
     "end_time": "2019-12-15T14:22:39.530835Z",
     "start_time": "2019-12-15T14:22:39.024182Z"
    }
   },
   "outputs": [],
   "source": [
    "hist = nx.degree_histogram(G2)\n",
    "\n",
    "x,y = [], []\n",
    "for i in range(len(hist)):\n",
    "    if hist[i] != 0 and 10< i < 300:\n",
    "        x.append(log(i))\n",
    "        y.append(log(hist[i]))\n",
    "\n",
    "gamma, b = np.polyfit(x,y,1)"
   ]
  },
  {
   "cell_type": "code",
   "execution_count": 21,
   "metadata": {
    "ExecuteTime": {
     "end_time": "2019-12-15T14:22:40.243151Z",
     "start_time": "2019-12-15T14:22:39.533100Z"
    }
   },
   "outputs": [
    {
     "data": {
      "image/png": "[encoded data removed]",
      "text/plain": [
       "<Figure size 720x432 with 1 Axes>"
      ]
     },
     "metadata": {
      "needs_background": "light"
     },
     "output_type": "display_data"
    }
   ],
   "source": [
    "\n",
    "plt.figure(figsize=(10,6))\n",
    "plt.plot(range(len(hist)), hist, 'o', label = 'Data')\n",
    "plt.plot(exp(x),exp([i*gamma + b for i in x]), 'r-', label = f\"Fit, $\\gamma_u = ${np.round(-gamma,2)}\")\n",
    "plt.xlabel(\"Degree\")\n",
    "plt.ylabel(\"Occurrence\")\n",
    "plt.title(\"Degree distribution of the author-author network\")\n",
    "plt.xscale(\"log\")\n",
    "plt.yscale(\"log\")\n",
    "plt.grid()\n",
    "plt.legend(loc = 'best')\n",
    "\n",
    "plt.show()"
   ]
  },
  {
   "cell_type": "markdown",
   "metadata": {},
   "source": [
    "The histogram shows a decrease in the scaling coefficient, but there are some anomalies. These spikes perhaps could be eliminated if I could load in the overall dataset or a newer one. \n",
    "\n",
    "The figure below (from Barabási-Albert's slides) shows how real-world network's scaling factors are distributed. B-A shows the Barabási-Albert model. Our coefficients are way far from the real $\\gamma_{collab}$, but since both the average degree an its standard deviation increased indicating a good tendency towards divergence. "
   ]
  },
  {
   "cell_type": "markdown",
   "metadata": {},
   "source": [
    "![](scaling_things.png)"
   ]
  },
  {
   "cell_type": "markdown",
   "metadata": {},
   "source": [
    "## Conclusions\n",
    "\n",
    "Unfortunately I could not process all the data therefore the temporal evolution could not be examined. The results based on these data are promising, tend to indicate the real-world examples."
   ]
  }
 ],
 "metadata": {
  "kernelspec": {
   "display_name": "Python 3",
   "language": "python",
   "name": "python3"
  },
  "language_info": {
   "codemirror_mode": {
    "name": "ipython",
    "version": 3
   },
   "file_extension": ".py",
   "mimetype": "text/x-python",
   "name": "python",
   "nbconvert_exporter": "python",
   "pygments_lexer": "ipython3",
   "version": "3.7.3"
  },
  "notify_time": "5",
  "toc": {
   "base_numbering": 1,
   "nav_menu": {},
   "number_sections": false,
   "sideBar": true,
   "skip_h1_title": false,
   "title_cell": "Table of Contents",
   "title_sidebar": "Contents",
   "toc_cell": false,
   "toc_position": {
    "height": "calc(100% - 180px)",
    "left": "10px",
    "top": "150px",
    "width": "165px"
   },
   "toc_section_display": true,
   "toc_window_display": true
  }
 },
 "nbformat": 4,
 "nbformat_minor": 2
}
