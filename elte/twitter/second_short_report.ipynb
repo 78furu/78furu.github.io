{
 "cells": [
  {
   "cell_type": "code",
   "execution_count": 5,
   "metadata": {},
   "outputs": [
    {
     "data": {
      "text/html": [
       "<script>\n",
       "code_show=true; \n",
       "function code_toggle() {\n",
       " if (code_show){\n",
       " $('div.input').hide();\n",
       " $('div.output_stderr').hide();\n",
       " } else {\n",
       " $('div.input').show();\n",
       " $('div.output_stderr').show();\n",
       " }\n",
       " code_show = !code_show\n",
       "} \n",
       "$( document ).ready(code_toggle);\n",
       "</script>\n",
       "<form action='javascript:code_toggle()'><input STYLE='color: #4286f4' \n",
       "type='submit' value='Click here to toggle on/off the raw code.'></form>"
      ],
      "text/plain": [
       "<IPython.core.display.HTML object>"
      ]
     },
     "execution_count": 5,
     "metadata": {},
     "output_type": "execute_result"
    }
   ],
   "source": [
    "from IPython.display import HTML\n",
    "\n",
    "HTML('''<script>\n",
    "code_show=true; \n",
    "function code_toggle() {\n",
    " if (code_show){\n",
    " $('div.input').hide();\n",
    " $('div.output_stderr').hide();\n",
    " } else {\n",
    " $('div.input').show();\n",
    " $('div.output_stderr').show();\n",
    " }\n",
    " code_show = !code_show\n",
    "} \n",
    "$( document ).ready(code_toggle);\n",
    "</script>\n",
    "<form action='javascript:code_toggle()'><input STYLE='color: #4286f4' \n",
    "type='submit' value='Click here to toggle on/off the raw code.'></form>''')"
   ]
  },
  {
   "cell_type": "markdown",
   "metadata": {},
   "source": [
    "# <center> Small World Phenomenon on Twitter Data   </center>"
   ]
  },
  {
   "cell_type": "markdown",
   "metadata": {},
   "source": [
    "## <center> $\\textit{Second Short Report} $ </center>"
   ]
  },
  {
   "cell_type": "markdown",
   "metadata": {},
   "source": [
    "### <center> Data Science Laboratory </center>"
   ]
  },
  {
   "cell_type": "markdown",
   "metadata": {},
   "source": [
    "<center> <img src=\"elte_cimer_szines.jpg\" alt=\"elte_cimer\" width=\"260\"/> </center>"
   ]
  },
  {
   "cell_type": "markdown",
   "metadata": {},
   "source": [
    "_Disclaimer: if you do not see the raw code, consider toggling them at the top of the page_"
   ]
  },
  {
   "cell_type": "markdown",
   "metadata": {},
   "source": [
    "### Introduction "
   ]
  },
  {
   "cell_type": "markdown",
   "metadata": {},
   "source": [
    "The purpose of this report is to have a brief summary about my work since last week. Before last week's lesson I was able to gather tweets based on their locations and to tokenize thw words."
   ]
  },
  {
   "cell_type": "markdown",
   "metadata": {},
   "source": [
    "### About last week"
   ]
  },
  {
   "cell_type": "markdown",
   "metadata": {},
   "source": [
    "My progress so far:\n",
    "\n",
    "- Stream tweets via the $\\texttt{tweepy}$ package\n",
    "- Choose them by locations\n",
    "- Prepare the data from .json format\n",
    "- Tokenize the words in the tweets"
   ]
  },
  {
   "cell_type": "markdown",
   "metadata": {},
   "source": [
    "### This week"
   ]
  },
  {
   "cell_type": "markdown",
   "metadata": {},
   "source": [
    "Since last week (the presentation), I was able to clean (most of) the unnecessary punctuation and other things, and after tokenizing the words from the tweets, I could create a graph also."
   ]
  },
  {
   "cell_type": "code",
   "execution_count": 38,
   "metadata": {},
   "outputs": [],
   "source": [
    "import sys\n",
    "import ast\n",
    "import pandas as pd\n",
    "import json\n",
    "import re\n",
    "import nltk\n",
    "import numpy as np\n",
    "import networkx as nx\n",
    "import operator\n",
    "#import enchant\n",
    "# I will need outer help for this particular package (for language check)\n",
    "from collections import Counter\n",
    "from nltk.stem import SnowballStemmer\n",
    "import matplotlib.pyplot as plt"
   ]
  },
  {
   "cell_type": "code",
   "execution_count": 21,
   "metadata": {},
   "outputs": [
    {
     "name": "stdout",
     "output_type": "stream",
     "text": [
      "Populating the interactive namespace from numpy and matplotlib\n"
     ]
    }
   ],
   "source": [
    "%pylab inline"
   ]
  },
  {
   "cell_type": "markdown",
   "metadata": {},
   "source": [
    "I already have a couple of tweets streamed from last week ($\\sim$ 1800)."
   ]
  },
  {
   "cell_type": "code",
   "execution_count": 22,
   "metadata": {},
   "outputs": [],
   "source": [
    "with open('intermediaryreporti/tweets_2.txt') as f:\n",
    "    data = f.readlines()\n",
    "\n",
    "tweets = []\n",
    "for k in data:\n",
    "    tweets.append(json.loads(k))"
   ]
  },
  {
   "cell_type": "markdown",
   "metadata": {},
   "source": [
    "However, there was a problem with one tweet, so I deleted that."
   ]
  },
  {
   "cell_type": "code",
   "execution_count": 23,
   "metadata": {},
   "outputs": [],
   "source": [
    "del tweets[1140]"
   ]
  },
  {
   "cell_type": "markdown",
   "metadata": {},
   "source": [
    "I will not load every single piece of information in, just the necessary ones."
   ]
  },
  {
   "cell_type": "code",
   "execution_count": 24,
   "metadata": {
    "slideshow": {
     "slide_type": "fragment"
    }
   },
   "outputs": [],
   "source": [
    "df = pd.DataFrame()\n",
    "\n",
    "df['id'] = np.array([tweet[\"id\"] for tweet in tweets])\n",
    "df['len'] = np.array([len(tweet[\"text\"]) for tweet in tweets])\n",
    "\n",
    "df['date'] = np.array([tweet[\"created_at\"] for tweet in tweets])\n",
    "df['source'] = np.array([tweet[\"source\"] for tweet in tweets])\n",
    "df['likes'] = np.array([tweet[\"favorite_count\"] for tweet in tweets])\n",
    "df['retweets'] = np.array([tweet['retweet_count'] for tweet in tweets])\n",
    "df['name'] = np.array([tweet['user']['name'] for tweet in tweets])\n",
    "df['locs'] = [[loc[::-1]for loc in tweet['place']['bounding_box']['coordinates'][0] if loc is not None] for tweet in tweets]"
   ]
  },
  {
   "cell_type": "markdown",
   "metadata": {},
   "source": [
    "The ratio of tweets where there was no need for a 'full_text' option:"
   ]
  },
  {
   "cell_type": "code",
   "execution_count": 25,
   "metadata": {},
   "outputs": [
    {
     "name": "stdout",
     "output_type": "stream",
     "text": [
      "0.7735632183908046%\n"
     ]
    }
   ],
   "source": [
    "texts = []\n",
    "cnt = 1\n",
    "for i, tweet in enumerate(tweets):\n",
    "    try:\n",
    "        texts.append(tweet['extended_tweet']['full_text'])\n",
    "    except KeyError:\n",
    "        texts.append(tweet['text'])\n",
    "        cnt += 1\n",
    "print(f\"{cnt/i}%\")"
   ]
  },
  {
   "cell_type": "code",
   "execution_count": 26,
   "metadata": {},
   "outputs": [],
   "source": [
    "df['text'] = texts"
   ]
  },
  {
   "cell_type": "markdown",
   "metadata": {},
   "source": [
    "After figuring out these problems, for easier handling, I am going to load in everything into a Pandas DataFrame."
   ]
  },
  {
   "cell_type": "code",
   "execution_count": 27,
   "metadata": {},
   "outputs": [
    {
     "data": {
      "text/html": [
       "<div>\n",
       "<style scoped>\n",
       "    .dataframe tbody tr th:only-of-type {\n",
       "        vertical-align: middle;\n",
       "    }\n",
       "\n",
       "    .dataframe tbody tr th {\n",
       "        vertical-align: top;\n",
       "    }\n",
       "\n",
       "    .dataframe thead th {\n",
       "        text-align: right;\n",
       "    }\n",
       "</style>\n",
       "<table border=\"1\" class=\"dataframe\">\n",
       "  <thead>\n",
       "    <tr style=\"text-align: right;\">\n",
       "      <th></th>\n",
       "      <th>id</th>\n",
       "      <th>len</th>\n",
       "      <th>date</th>\n",
       "      <th>source</th>\n",
       "      <th>likes</th>\n",
       "      <th>retweets</th>\n",
       "      <th>name</th>\n",
       "      <th>locs</th>\n",
       "      <th>text</th>\n",
       "    </tr>\n",
       "  </thead>\n",
       "  <tbody>\n",
       "    <tr>\n",
       "      <th>0</th>\n",
       "      <td>1181300835122327552</td>\n",
       "      <td>140</td>\n",
       "      <td>Mon Oct 07 20:10:41 +0000 2019</td>\n",
       "      <td>&lt;a href=\"http://twitter.com/download/android\" ...</td>\n",
       "      <td>0</td>\n",
       "      <td>0</td>\n",
       "      <td>Peter Dudley</td>\n",
       "      <td>[[51.543815, 0.010398], [51.626165, 0.010398],...</td>\n",
       "      <td>Side saw good chance thwarted by last ditch ta...</td>\n",
       "    </tr>\n",
       "    <tr>\n",
       "      <th>1</th>\n",
       "      <td>1181300835239759872</td>\n",
       "      <td>140</td>\n",
       "      <td>Mon Oct 07 20:10:41 +0000 2019</td>\n",
       "      <td>&lt;a href=\"http://twitter.com/download/iphone\" r...</td>\n",
       "      <td>0</td>\n",
       "      <td>0</td>\n",
       "      <td>Damian Wawrzyniak</td>\n",
       "      <td>[[52.603205, -0.202653], [52.620535, -0.202653...</td>\n",
       "      <td>@KarenWhiteFood @tweetertucker @AdamHandling I...</td>\n",
       "    </tr>\n",
       "    <tr>\n",
       "      <th>2</th>\n",
       "      <td>1181300835348815874</td>\n",
       "      <td>41</td>\n",
       "      <td>Mon Oct 07 20:10:41 +0000 2019</td>\n",
       "      <td>&lt;a href=\"http://twitter.com/download/iphone\" r...</td>\n",
       "      <td>0</td>\n",
       "      <td>0</td>\n",
       "      <td>deli Muru</td>\n",
       "      <td>[[54.543241, -6.036116], [54.648497, -6.036116...</td>\n",
       "      <td>@maggimccvil Congratulations Caroline! ⭐️</td>\n",
       "    </tr>\n",
       "    <tr>\n",
       "      <th>3</th>\n",
       "      <td>1181300836519075841</td>\n",
       "      <td>57</td>\n",
       "      <td>Mon Oct 07 20:10:41 +0000 2019</td>\n",
       "      <td>&lt;a href=\"http://twitter.com/download/android\" ...</td>\n",
       "      <td>0</td>\n",
       "      <td>0</td>\n",
       "      <td>Jordan Carroll</td>\n",
       "      <td>[[53.438332, -3.058666], [53.501369, -3.058666...</td>\n",
       "      <td>@Eric_Toffee1878 Original mate. Disturbing but...</td>\n",
       "    </tr>\n",
       "    <tr>\n",
       "      <th>4</th>\n",
       "      <td>1181300838846926848</td>\n",
       "      <td>14</td>\n",
       "      <td>Mon Oct 07 20:10:42 +0000 2019</td>\n",
       "      <td>&lt;a href=\"http://twitter.com/download/iphone\" r...</td>\n",
       "      <td>0</td>\n",
       "      <td>0</td>\n",
       "      <td>sarah guerra</td>\n",
       "      <td>[[51.417277, -0.259465], [51.486036, -0.259465...</td>\n",
       "      <td>You were great</td>\n",
       "    </tr>\n",
       "  </tbody>\n",
       "</table>\n",
       "</div>"
      ],
      "text/plain": [
       "                    id  len                            date  \\\n",
       "0  1181300835122327552  140  Mon Oct 07 20:10:41 +0000 2019   \n",
       "1  1181300835239759872  140  Mon Oct 07 20:10:41 +0000 2019   \n",
       "2  1181300835348815874   41  Mon Oct 07 20:10:41 +0000 2019   \n",
       "3  1181300836519075841   57  Mon Oct 07 20:10:41 +0000 2019   \n",
       "4  1181300838846926848   14  Mon Oct 07 20:10:42 +0000 2019   \n",
       "\n",
       "                                              source  likes  retweets  \\\n",
       "0  <a href=\"http://twitter.com/download/android\" ...      0         0   \n",
       "1  <a href=\"http://twitter.com/download/iphone\" r...      0         0   \n",
       "2  <a href=\"http://twitter.com/download/iphone\" r...      0         0   \n",
       "3  <a href=\"http://twitter.com/download/android\" ...      0         0   \n",
       "4  <a href=\"http://twitter.com/download/iphone\" r...      0         0   \n",
       "\n",
       "                name                                               locs  \\\n",
       "0       Peter Dudley  [[51.543815, 0.010398], [51.626165, 0.010398],...   \n",
       "1  Damian Wawrzyniak  [[52.603205, -0.202653], [52.620535, -0.202653...   \n",
       "2          deli Muru  [[54.543241, -6.036116], [54.648497, -6.036116...   \n",
       "3     Jordan Carroll  [[53.438332, -3.058666], [53.501369, -3.058666...   \n",
       "4       sarah guerra  [[51.417277, -0.259465], [51.486036, -0.259465...   \n",
       "\n",
       "                                                text  \n",
       "0  Side saw good chance thwarted by last ditch ta...  \n",
       "1  @KarenWhiteFood @tweetertucker @AdamHandling I...  \n",
       "2          @maggimccvil Congratulations Caroline! ⭐️  \n",
       "3  @Eric_Toffee1878 Original mate. Disturbing but...  \n",
       "4                                     You were great  "
      ]
     },
     "execution_count": 27,
     "metadata": {},
     "output_type": "execute_result"
    }
   ],
   "source": [
    "df.head()"
   ]
  },
  {
   "cell_type": "markdown",
   "metadata": {},
   "source": [
    "Now I used the SnowballStemmer, however, other options are plausible, too."
   ]
  },
  {
   "cell_type": "code",
   "execution_count": 32,
   "metadata": {
    "slideshow": {
     "slide_type": "fragment"
    }
   },
   "outputs": [],
   "source": [
    "snow = SnowballStemmer('english',ignore_stopwords=False)"
   ]
  },
  {
   "cell_type": "markdown",
   "metadata": {},
   "source": [
    "Next step was to find all the words (only) and tokenize them."
   ]
  },
  {
   "cell_type": "code",
   "execution_count": 33,
   "metadata": {},
   "outputs": [],
   "source": [
    "df['tkzd_clnd'] = [[snow.stem(word) for word in re.findall('\\w+',t.lower())] for t in df.text]"
   ]
  },
  {
   "cell_type": "markdown",
   "metadata": {},
   "source": [
    "Now that I have the core of the words, I can create a graph. For that, I will use the $\\texttt{networkx}$ package."
   ]
  },
  {
   "cell_type": "code",
   "execution_count": 34,
   "metadata": {},
   "outputs": [],
   "source": [
    "g = nx.MultiGraph()"
   ]
  },
  {
   "cell_type": "markdown",
   "metadata": {},
   "source": [
    "Here I add the nodes (only once) and the edges (multiple times)."
   ]
  },
  {
   "cell_type": "code",
   "execution_count": 35,
   "metadata": {},
   "outputs": [],
   "source": [
    "for index, tweet in df.iterrows():\n",
    "    for i, w in enumerate(tweet['tkzd_clnd']):\n",
    "        g.add_node(w)\n",
    "        for j in range(i):\n",
    "            g.add_edge(tweet['tkzd_clnd'][j],w)"
   ]
  },
  {
   "cell_type": "markdown",
   "metadata": {},
   "source": [
    "Let us look for the most common occurrence ('most numerous paralell edge')."
   ]
  },
  {
   "cell_type": "code",
   "execution_count": 36,
   "metadata": {},
   "outputs": [],
   "source": [
    "edgs = list(g.edges())\n",
    "\n",
    "edgs_d = dict(Counter(edgs))\n",
    "\n",
    "sorted_edgs = sorted(edgs_d.items(), key=operator.itemgetter(1), reverse=True)"
   ]
  },
  {
   "cell_type": "code",
   "execution_count": 74,
   "metadata": {},
   "outputs": [],
   "source": [
    "n = 20\n",
    "\n",
    "toplot = [[e[0], e[1]] for c, e  in enumerate(sorted_edgs) if c<30]\n",
    "nums = [z[1]/len(edgs) for z in toplot]\n",
    "labels = [str(z[0][0]+' - '+ z[0][1]) for z in toplot]"
   ]
  },
  {
   "cell_type": "markdown",
   "metadata": {},
   "source": [
    "Below you can see the 20 most common occurrences."
   ]
  },
  {
   "cell_type": "code",
   "execution_count": 75,
   "metadata": {},
   "outputs": [
    {
     "data": {
      "image/png": "[encoded data removed]",
      "text/plain": [
       "<Figure size 1152x648 with 1 Axes>"
      ]
     },
     "metadata": {
      "needs_background": "light"
     },
     "output_type": "display_data"
    }
   ],
   "source": [
    "plt.figure(figsize=(16,9))\n",
    "plt.bar(range(len(nums)), nums)\n",
    "plt.xticks(range(len(nums)), labels, rotation=45)\n",
    "plt.grid()\n",
    "plt.xlabel('Edges between')\n",
    "plt.ylabel('Fraction of all the edges');"
   ]
  },
  {
   "cell_type": "markdown",
   "metadata": {},
   "source": [
    "It clearly seen, that a lot of non-real words (which are not part of the natural language) are here ('https', 't', 'co', etc.). However, it is promising that the word 'the' itself is very common -- as [Zipf's law](https://en.wikipedia.org/wiki/Zipf%27s_law) states."
   ]
  },
  {
   "cell_type": "markdown",
   "metadata": {},
   "source": [
    "### Upcoming tasks"
   ]
  },
  {
   "cell_type": "markdown",
   "metadata": {},
   "source": [
    "In the upcoming weeks I will gather sufficient number of tweets, clear the non-english words out, and examine the resulting networks."
   ]
  }
 ],
 "metadata": {
  "kernelspec": {
   "display_name": "Python 3",
   "language": "python",
   "name": "python3"
  },
  "language_info": {
   "codemirror_mode": {
    "name": "ipython",
    "version": 3
   },
   "file_extension": ".py",
   "mimetype": "text/x-python",
   "name": "python",
   "nbconvert_exporter": "python",
   "pygments_lexer": "ipython3",
   "version": "3.6.6"
  }
 },
 "nbformat": 4,
 "nbformat_minor": 2
}
