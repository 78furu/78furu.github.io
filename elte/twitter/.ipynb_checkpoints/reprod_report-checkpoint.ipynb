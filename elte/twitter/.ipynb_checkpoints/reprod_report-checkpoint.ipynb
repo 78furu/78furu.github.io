{
 "cells": [
  {
   "cell_type": "code",
   "execution_count": 2,
   "metadata": {
    "ExecuteTime": {
     "end_time": "2019-12-10T23:27:59.406949Z",
     "start_time": "2019-12-10T23:27:59.392256Z"
    },
    "slideshow": {
     "slide_type": "skip"
    }
   },
   "outputs": [
    {
     "data": {
      "text/html": [
       "<script>\n",
       "code_show=true; \n",
       "function code_toggle() {\n",
       " if (code_show){\n",
       " $('div.input').hide();\n",
       " $('div.output_stderr').hide();\n",
       " } else {\n",
       " $('div.input').show();\n",
       " $('div.output_stderr').show();\n",
       " }\n",
       " code_show = !code_show\n",
       "} \n",
       "$( document ).ready(code_toggle);\n",
       "</script>\n",
       "<form action='javascript:code_toggle()'><input STYLE='color: #4286f4' \n",
       "type='submit' value='Click here to toggle on/off the raw code.'></form>"
      ],
      "text/plain": [
       "<IPython.core.display.HTML object>"
      ]
     },
     "execution_count": 2,
     "metadata": {},
     "output_type": "execute_result"
    }
   ],
   "source": [
    "from IPython.display import HTML\n",
    "\n",
    "HTML('''<script>\n",
    "code_show=true; \n",
    "function code_toggle() {\n",
    " if (code_show){\n",
    " $('div.input').hide();\n",
    " $('div.output_stderr').hide();\n",
    " } else {\n",
    " $('div.input').show();\n",
    " $('div.output_stderr').show();\n",
    " }\n",
    " code_show = !code_show\n",
    "} \n",
    "$( document ).ready(code_toggle);\n",
    "</script>\n",
    "<form action='javascript:code_toggle()'><input STYLE='color: #4286f4' \n",
    "type='submit' value='Click here to toggle on/off the raw code.'></form>''')"
   ]
  },
  {
   "cell_type": "markdown",
   "metadata": {
    "slideshow": {
     "slide_type": "slide"
    }
   },
   "source": [
    "# <center> Twitter Topic Modeling </center>\n",
    "\n",
    "### <center> Reproduced project presentation </center>\n",
    "\n",
    "---\n",
    "\n",
    "#### <center>by Kristóf Furuglyás </center>\n",
    "\n",
    "\n",
    "<center> <img src=\"twitter_start.jpg\" alt=\"tw_start\" width=\"600\"/> </center>\n",
    "\n",
    "##### <center> 2019 Fall, Original Project: István Márkusz, Eötvös Loránd University </center> "
   ]
  },
  {
   "cell_type": "markdown",
   "metadata": {
    "slideshow": {
     "slide_type": "skip"
    }
   },
   "source": [
    "_Disclaimer: if you do not see the raw code, consider toggling them at the top of the page_"
   ]
  },
  {
   "cell_type": "markdown",
   "metadata": {
    "slideshow": {
     "slide_type": "slide"
    }
   },
   "source": [
    "# <center> Goal of project \n",
    "\n",
    "- Gather tweets about one given topic (original: #maga, mine: #metoo)\n",
    "- Create word-word graph and word-tweet bipartite graph\n",
    "- Find communities with different algorithms\n",
    "- Associate communites w topics\n",
    "- Compare methods"
   ]
  },
  {
   "cell_type": "markdown",
   "metadata": {
    "slideshow": {
     "slide_type": "slide"
    }
   },
   "source": [
    "# <center>  Data availability and Preparation </center>\n",
    "\n",
    "- Ready codes and much data were available\n",
    "- Environment is complicated to install (docker)\n",
    "- Create virtual environment\n",
    "\n",
    "<center> <img src=\"docker.jpg\" alt=\"tw_start\" width=\"400\"/> </center>\n"
   ]
  },
  {
   "cell_type": "markdown",
   "metadata": {
    "slideshow": {
     "slide_type": "slide"
    }
   },
   "source": [
    "# <center>Reproduced Methods</center>\n",
    "\n",
    "- Collected tweets with $\\textbf{#metoo}$\n",
    "- Cleaning and tokenizing done in the same way\n",
    "- Not 44775 but 1760 tweets \n",
    "- Word-word graph & word-tweet bipartite graph\n",
    "- hSBM & LDA "
   ]
  },
  {
   "cell_type": "markdown",
   "metadata": {
    "slideshow": {
     "slide_type": "subslide"
    }
   },
   "source": [
    "# <center> Word-word graph properties</center>\n",
    "\n"
   ]
  },
  {
   "cell_type": "code",
   "execution_count": 152,
   "metadata": {
    "ExecuteTime": {
     "end_time": "2019-12-10T22:46:07.196187Z",
     "start_time": "2019-12-10T22:46:06.478162Z"
    },
    "code_folding": [
     0
    ],
    "hide_input": false,
    "scrolled": false,
    "slideshow": {
     "slide_type": "fragment"
    }
   },
   "outputs": [
    {
     "data": {
      "application/vnd.jupyter.widget-view+json": {
       "model_id": "8ab473e77c644cbc85731673fcd87c8d",
       "version_major": 2,
       "version_minor": 0
      },
      "text/plain": [
       "HBox(children=(IntProgress(value=0, max=1574), HTML(value='')))"
      ]
     },
     "metadata": {},
     "output_type": "display_data"
    },
    {
     "name": "stdout",
     "output_type": "stream",
     "text": [
      "\n",
      "Name: \n",
      "Type: Graph\n",
      "Number of nodes: 1448\n",
      "Number of edges: 66988\n",
      "Average degree:  92.5249\n",
      "Median degree: 74.0\n"
     ]
    }
   ],
   "source": [
    "# Creating word-word graph\n",
    "G = nx.Graph()\n",
    "\n",
    "for token_list in tqdm(data.tokens):\n",
    "    \n",
    "    for edge in itertools.combinations(token_list, 2):\n",
    "        w = G.get_edge_data(*edge, default={'weight':0})['weight'] + 1\n",
    "        G.add_edge(*edge, weight=w)\n",
    "\n",
    "G = nx.convert_node_labels_to_integers(G, label_attribute='label')\n",
    "print(nx.info(G))\n",
    "deg_med = np.median([deg for node, deg in G.degree(weight='weight')])\n",
    "print(f'Median degree: {deg_med}')"
   ]
  },
  {
   "cell_type": "code",
   "execution_count": 154,
   "metadata": {
    "ExecuteTime": {
     "end_time": "2019-12-10T22:47:25.038617Z",
     "start_time": "2019-12-10T22:47:23.741574Z"
    },
    "code_folding": [
     0
    ],
    "hide_input": true,
    "slideshow": {
     "slide_type": "subslide"
    }
   },
   "outputs": [
    {
     "data": {
      "image/png": "[encoded data removed]",
      "text/plain": [
       "<Figure size 1152x432 with 1 Axes>"
      ]
     },
     "metadata": {
      "needs_background": "light"
     },
     "output_type": "display_data"
    }
   ],
   "source": [
    "# Degree dist\n",
    "hist = nx.degree_histogram(G)\n",
    "\n",
    "plt.figure(figsize=(16,6))\n",
    "plt.bar(range(len(hist)), hist)\n",
    "plt.xlabel(\"Degree\")\n",
    "plt.ylabel(\"Occurrence\")\n",
    "plt.grid()\n",
    "\n",
    "plt.show()"
   ]
  },
  {
   "cell_type": "markdown",
   "metadata": {
    "slideshow": {
     "slide_type": "subslide"
    }
   },
   "source": [
    "# <center> Word-tweet graph</center>"
   ]
  },
  {
   "cell_type": "code",
   "execution_count": 159,
   "metadata": {
    "ExecuteTime": {
     "end_time": "2019-12-10T22:48:29.941428Z",
     "start_time": "2019-12-10T22:48:29.917555Z"
    },
    "code_folding": [
     0
    ],
    "slideshow": {
     "slide_type": "fragment"
    }
   },
   "outputs": [
    {
     "name": "stdout",
     "output_type": "stream",
     "text": [
      "Number of tweets: 1174\n",
      "Number of tokens: 14770\n"
     ]
    }
   ],
   "source": [
    "# Tweet-token ratio\n",
    "filters = (data.tokens.str.len() >= 6)\n",
    "print(f'Number of tweets: {len(data[filters])}')\n",
    "print(f'Number of tokens: {data[filters].tokens.str.len().sum()}')"
   ]
  },
  {
   "cell_type": "markdown",
   "metadata": {
    "slideshow": {
     "slide_type": "subslide"
    }
   },
   "source": [
    "![](sbm.png)"
   ]
  },
  {
   "cell_type": "code",
   "execution_count": 201,
   "metadata": {
    "ExecuteTime": {
     "end_time": "2019-12-10T23:03:22.783187Z",
     "start_time": "2019-12-10T23:03:22.775240Z"
    },
    "scrolled": false,
    "slideshow": {
     "slide_type": "subslide"
    }
   },
   "outputs": [
    {
     "data": {
      "text/plain": [
       "{0: [('women', 0.015546639919759278),\n",
       "  ('movement', 0.014844533600802408),\n",
       "  ('say', 0.011634904714142427),\n",
       "  ('like', 0.011334002006018053),\n",
       "  ('get', 0.011133400200601806),\n",
       "  ('peopl', 0.008625877632898696),\n",
       "  ('one', 0.008224674022066199),\n",
       "  ('stori', 0.007321965897693079),\n",
       "  ('think', 0.00712136409227683),\n",
       "  ('make', 0.00712136409227683)],\n",
       " 1: [('assault', 0.05037593984962406),\n",
       "  ('era', 0.04360902255639098),\n",
       "  ('court', 0.04360902255639098),\n",
       "  ('survivor', 0.039097744360902256),\n",
       "  ('first', 0.035338345864661655),\n",
       "  ('watch', 0.03007518796992481),\n",
       "  ('high', 0.02706766917293233),\n",
       "  ('case', 0.02556390977443609),\n",
       "  ('tri', 0.02556390977443609),\n",
       "  ('convict', 0.021052631578947368)],\n",
       " 2: [('sexual', 0.062146892655367235),\n",
       "  ('men', 0.03615819209039548),\n",
       "  ('need', 0.02711864406779661),\n",
       "  ('harass', 0.026741996233521657),\n",
       "  ('victim', 0.02448210922787194),\n",
       "  ('abus', 0.021845574387947268),\n",
       "  ('come', 0.021468926553672316),\n",
       "  ('man', 0.01770244821092279),\n",
       "  ('violenc', 0.01770244821092279),\n",
       "  ('power', 0.01657250470809793)]}"
      ]
     },
     "execution_count": 201,
     "metadata": {},
     "output_type": "execute_result"
    }
   ],
   "source": [
    "level=1\n",
    "hsbm_model.topics(l=level, n=10)"
   ]
  },
  {
   "cell_type": "markdown",
   "metadata": {
    "slideshow": {
     "slide_type": "subslide"
    }
   },
   "source": [
    "---------------------------------------- TOPIC: 0 ----------------------------------------\n",
    "\n",
    "----------------------------------------------------------------------------------------------------\n",
    "\n",
    "\n",
    "@othermatt2 hahah my term paper is actually about using media to cultivate the practice of faithful presence in the midst of the #metoo &amp; #churchtoo movements.\n",
    "\n",
    "-------------------------\n",
    "\n",
    "@laurahday @JayneBYoung @magenta_17 @cash4questions2 @topwak @SkyNews @BBCNews @DailyMirror @UKLabour @jeremycorbyn 2) I have my eyes wide open. All I'm seeing is your lively smile right now (that was a bit of humour). Don't go all #MeToo over it lol.\n",
    "\n",
    "----------------------------------------------------------------------------------------------------\n",
    "\n",
    "@susanthesquark Lol... Its a dumb observation that yout naive or too dumb to realize.... Your getting ratioed for good reason... Ever heard of #MeToo\n",
    "\n",
    "----------------------------------------------------------------------------------------------------\n",
    "\n",
    "@BiggFan77 #Dumboleena was coined for a reason. #ShehnaazGill is in task. To take max footage from HMs, to be seen. #Shehnaaz says \"She can't be fake &amp; talk to HMs who don't like her, Sid was the only one who she could take footage from\"\n",
    "\n",
    "Accused #Metoo cursed &amp; dumbo was flirting with him."
   ]
  },
  {
   "cell_type": "markdown",
   "metadata": {
    "slideshow": {
     "slide_type": "subslide"
    }
   },
   "source": [
    "---------------------------------------- TOPIC: 1 ----------------------------------------\n",
    "\n",
    "----------------------------------------------------------------------------------------------------\n",
    "\n",
    "\n",
    "The Superior Court ruling was being closely watched because Cosby was the first celebrity tried and convicted in the #MeToo era. https://t.co/avPRTAbrDa\n",
    "\n",
    "----------------------------------------------------------------------------------------------------\n",
    "\n",
    "15.08 ongoing attempt to murder  GE #GE #FCPA #CORPGOV whistle-blower &amp; #MeToo survivor Seema Sapra in Delhi High Court  @realDonaldTrump @FBI @POTUS @gurgaonpolice @DelhiPolice @CPDelhi @StateDept @WhiteHouse @TheJusticeDept @HMOIndia @AmitShah @PMOIndia @narendramodi https://t.co/kWwbc3sk8t\n",
    " \n",
    "----------------------------------------------------------------------------------------------------\n",
    "\n",
    "  0.12 Attempt to murder GE #GE #FCPA #CORPGOV whistle-blower &amp; #MeToo survivor Seema Sapra at Gate 8 Delhi High Court  @realDonaldTrump @FBI @POTUS @gurgaonpolice @DelhiPolice @CPDelhi @StateDept @WhiteHouse @TheJusticeDept @HMOIndia @AmitShah @PMOIndia @narendramodi https://t.co/xf3da9t2HY \n",
    "\n",
    "----------------------------------------------------------------------------------------------------\n",
    "\n",
    "UP16BC7271 0.02 Attempt to murder GE #GE #FCPA #CORPGOV whistle-blower &amp; #MeToo survivor Seema Sapra at Gate 8 Delhi High Court  @realDonaldTrump @FBI @POTUS @gurgaonpolice @DelhiPolice @CPDelhi @StateDept @WhiteHouse @TheJusticeDept @HMOIndia @AmitShah @PMOIndia @narendramodi\n",
    "\n",
    "----------------------------------------------------------------------------------------------------\n"
   ]
  },
  {
   "cell_type": "markdown",
   "metadata": {
    "slideshow": {
     "slide_type": "subslide"
    }
   },
   "source": [
    "---------------------------------------- TOPIC: 2 ----------------------------------------\n",
    "\n",
    "----------------------------------------------------------------------------------------------------\n",
    "\n",
    "\n",
    "PWN men and PWN the WPRDL, with proprietary insights, from the N-biCOMACOPO \"male dual loyalty\" #gaming algorithm. Reverse engineered by the AIA. #ReadMyTweets #AI #MAGA #MeToo #IoT #DemDebate Eli Manning #EaglesvsGiants #fintech #infosec #Joker #hacking \n",
    "\n",
    "https://t.co/RS3QsVW99Q\n",
    "\n",
    "----------------------------------------------------------------------------------------------------\n",
    "\n",
    "Damn You @GloriaAllred, Damn You @LisaBloom, Damn You #JudgeONeill, Damn You #KevinSteele! 😤👎👎\n",
    "\n",
    "Damn You #TimesUp and #MeToo! #FirstThem! #MuteTimesUp and #MuteMeToo! I AM VERY PISSED!  #BillCosby didn't deserve it! #FreeCosby #BillCosbyIsInnocent! https://t.co/6jAeVizmlW\n",
    "\n",
    "----------------------------------------------------------------------------------------------------\n",
    "\n",
    "\"Community problems deserve a community response. My response was #metoo.\" #IHIForum\n",
    "\n",
    "----------------------------------------------------------------------------------------------------\n",
    "\n",
    "IT'S THE MEN, STUPID. This is algorithmically identical to #domesticabuse model—the ENDLESS \"play by play\" over PREPOSTEROUS MEN—a deep deep spiraling \"male dual loyalty\" #gaming dynamic. #ReadMyTweets #AI #MAGA #MeToo #IoT #DemDebate Eli Manning #EaglesvsGiants #fintech #infosec https://t.co/JUiZAGLg2L\n",
    "\n",
    "----------------------------------------------------------------------------------------------------\n",
    "\n"
   ]
  },
  {
   "cell_type": "markdown",
   "metadata": {
    "slideshow": {
     "slide_type": "slide"
    }
   },
   "source": [
    "# <center> Latent-Dirichlet Algorithm (LDA) </center>\n",
    "\n"
   ]
  },
  {
   "cell_type": "code",
   "execution_count": 217,
   "metadata": {
    "ExecuteTime": {
     "end_time": "2019-12-10T23:38:32.231637Z",
     "start_time": "2019-12-10T23:38:32.222078Z"
    },
    "scrolled": true,
    "slideshow": {
     "slide_type": "fragment"
    }
   },
   "outputs": [
    {
     "data": {
      "text/plain": [
       "[(0,\n",
       "  [('say', 0.01029575),\n",
       "   ('women', 0.0095762685),\n",
       "   ('men', 0.007937355),\n",
       "   ('movement', 0.007825186),\n",
       "   ('stori', 0.0073716524),\n",
       "   ('see', 0.0059436252),\n",
       "   ('right', 0.005807654)]),\n",
       " (1,\n",
       "  [('sexual', 0.019692097),\n",
       "   ('women', 0.017512914),\n",
       "   ('movement', 0.012585554),\n",
       "   ('like', 0.010749188),\n",
       "   ('say', 0.010251208),\n",
       "   ('get', 0.009469597),\n",
       "   ('assault', 0.008004609)]),\n",
       " (2,\n",
       "  [('would', 0.009614601),\n",
       "   ('get', 0.009072569),\n",
       "   ('know', 0.0076741227),\n",
       "   ('movement', 0.007480507),\n",
       "   ('like', 0.0064201523),\n",
       "   ('new', 0.0060390034),\n",
       "   ('one', 0.0057884566)])]"
      ]
     },
     "execution_count": 217,
     "metadata": {},
     "output_type": "execute_result"
    }
   ],
   "source": [
    "level=1\n",
    "lda_models[level].show_topics(num_topics=-1, num_words=7, formatted=False)"
   ]
  },
  {
   "cell_type": "markdown",
   "metadata": {
    "slideshow": {
     "slide_type": "subslide"
    }
   },
   "source": [
    "# <center> Comparison </center>\n",
    "\n",
    "\n",
    "<p> <img src=\"correlation_l1.png\" alt=\"Smiley face\" align=\"left\" width =\"400\"> <img src=\"correlation_l2.png\" alt=\"Smiley face\" align=\"right\" width =\"400\"> </p> "
   ]
  },
  {
   "cell_type": "markdown",
   "metadata": {
    "slideshow": {
     "slide_type": "slide"
    }
   },
   "source": [
    "# <center> Conclusions </center>\n",
    "\n",
    "- Could setup environment\n",
    "- Reproduced the results, but with less data\n",
    "- Many new great features"
   ]
  },
  {
   "cell_type": "markdown",
   "metadata": {
    "ExecuteTime": {
     "end_time": "2019-11-05T23:06:07.665298Z",
     "start_time": "2019-11-05T23:06:07.657821Z"
    },
    "slideshow": {
     "slide_type": "slide"
    }
   },
   "source": [
    "# <center> Thank you for your attention! </center>\n",
    "---\n",
    "<center> <img src=\"elte_cimer_szines.jpg\" alt=\"elte\" width=\"400\"/> </center>\n",
    "\n",
    "---\n",
    "#### <center> 2019 Fall, Eötvös Loránd University </center>"
   ]
  }
 ],
 "metadata": {
  "celltoolbar": "Slideshow",
  "kernelspec": {
   "display_name": "Python 3",
   "language": "python",
   "name": "python3"
  },
  "language_info": {
   "codemirror_mode": {
    "name": "ipython",
    "version": 3
   },
   "file_extension": ".py",
   "mimetype": "text/x-python",
   "name": "python",
   "nbconvert_exporter": "python",
   "pygments_lexer": "ipython3",
   "version": "3.7.3"
  },
  "toc": {
   "base_numbering": 1,
   "nav_menu": {},
   "number_sections": false,
   "sideBar": true,
   "skip_h1_title": false,
   "title_cell": "Table of Contents",
   "title_sidebar": "Contents",
   "toc_cell": false,
   "toc_position": {},
   "toc_section_display": true,
   "toc_window_display": false
  }
 },
 "nbformat": 4,
 "nbformat_minor": 2
}
